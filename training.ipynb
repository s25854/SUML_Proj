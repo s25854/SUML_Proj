{
 "cells": [
  {
   "cell_type": "code",
   "id": "initial_id",
   "metadata": {
    "collapsed": true,
    "ExecuteTime": {
     "end_time": "2025-06-25T15:35:16.250511Z",
     "start_time": "2025-06-25T15:35:16.239999Z"
    }
   },
   "source": [
    "import torch\n",
    "import torch.nn as nn\n",
    "import torch.optim as optim\n",
    "from torch.utils.data import DataLoader\n",
    "from model.wine_dataset import WineDataset\n",
    "from model.wine_dataset import WineQualityMLP\n",
    "import pandas as pd\n",
    "import matplotlib.pyplot as plt\n",
    "import numpy as np\n",
    "from sklearn.metrics import mean_squared_error, mean_absolute_error\n",
    "import pickle\n",
    "from pathlib import Path"
   ],
   "outputs": [],
   "execution_count": 7
  },
  {
   "metadata": {
    "ExecuteTime": {
     "end_time": "2025-06-25T15:35:16.374427Z",
     "start_time": "2025-06-25T15:35:16.359578Z"
    }
   },
   "cell_type": "code",
   "source": [
    "batch_size = 64\n",
    "\n",
    "X_train_path = \"data/X_train_SMOTE.parquet\"\n",
    "y_train_path = \"data/y_train_SMOTE.parquet\"\n",
    "X_test_path = \"data/X_test.parquet\"\n",
    "y_test_path = \"data/y_test.parquet\"\n",
    "\n",
    "train_dataset = WineDataset(X_train_path, y_train_path)\n",
    "test_dataset = WineDataset(X_test_path, y_test_path)\n",
    "train_loader = DataLoader(train_dataset, batch_size=batch_size, shuffle=True)\n",
    "test_loader = DataLoader(test_dataset, batch_size=batch_size)"
   ],
   "id": "37b8b85925496a49",
   "outputs": [],
   "execution_count": 10
  },
  {
   "metadata": {
    "ExecuteTime": {
     "end_time": "2025-06-25T15:35:16.406470Z",
     "start_time": "2025-06-25T15:35:16.391455Z"
    }
   },
   "cell_type": "code",
   "source": [
    "device = torch.device(\"cuda\" if torch.cuda.is_available() else \"cpu\")\n",
    "print(\"Device: \", device)"
   ],
   "id": "abddf952f77f150a",
   "outputs": [
    {
     "name": "stdout",
     "output_type": "stream",
     "text": [
      "Device:  cpu\n"
     ]
    }
   ],
   "execution_count": 11
  },
  {
   "metadata": {
    "ExecuteTime": {
     "end_time": "2025-06-25T15:35:16.437996Z",
     "start_time": "2025-06-25T15:35:16.423487Z"
    }
   },
   "cell_type": "code",
   "source": [
    "OUT_DIR = Path(\"model\")\n",
    "epochs = 100\n",
    "learning_rate = 1e-3\n",
    "input_size = pd.read_parquet(X_train_path).shape[1]\n",
    "\n",
    "model = WineQualityMLP(input_size=13).to(device)\n",
    "criterion = nn.MSELoss()\n",
    "optimizer = optim.Adam(model.parameters(), lr=learning_rate)"
   ],
   "id": "c49c01ab73709605",
   "outputs": [],
   "execution_count": 12
  },
  {
   "metadata": {
    "ExecuteTime": {
     "end_time": "2025-06-25T15:35:19.070765Z",
     "start_time": "2025-06-25T15:35:16.454786Z"
    }
   },
   "cell_type": "code",
   "source": [
    "with open(\"model/training_log.csv\", \"w\") as f:\n",
    "    f.write(\"epoch,train_loss,rmse,mae,acc,acc_tolerant\\n\")\n",
    "\n",
    "best_rmse = float(\"inf\")\n",
    "patience = 10\n",
    "counter = 0\n",
    "\n",
    "for epoch in range(1, epochs + 1):\n",
    "    model.train()\n",
    "    total_loss = 0\n",
    "\n",
    "    for X_batch, y_batch in train_loader:\n",
    "        X_batch, y_batch = X_batch.to(device), y_batch.to(device)\n",
    "\n",
    "        optimizer.zero_grad()\n",
    "        preds = model(X_batch)\n",
    "        loss = criterion(preds, y_batch)\n",
    "        loss.backward()\n",
    "        optimizer.step()\n",
    "\n",
    "        total_loss += loss.item() * X_batch.size(0)\n",
    "\n",
    "    avg_train_loss = total_loss / len(train_loader.dataset)\n",
    "\n",
    "    # Ewaluacja\n",
    "    model.eval()\n",
    "    all_preds, all_targets = [], []\n",
    "\n",
    "    with torch.no_grad():\n",
    "        for X_batch, y_batch in test_loader:\n",
    "            X_batch = X_batch.to(device)\n",
    "            preds = model(X_batch).cpu().numpy()\n",
    "            all_preds.extend(preds)\n",
    "            all_targets.extend(y_batch.numpy())\n",
    "\n",
    "    rmse = np.sqrt(mean_squared_error(all_targets, all_preds))\n",
    "    mae = mean_absolute_error(all_targets, all_preds)\n",
    "\n",
    "    if rmse < best_rmse - 1e-4:\n",
    "        best_rmse = rmse\n",
    "        counter = 0\n",
    "        torch.save(model.state_dict(), OUT_DIR / \"best_model.pth\")\n",
    "    else:\n",
    "        counter += 1\n",
    "        if counter >= patience:\n",
    "            print(f\"Early stopping at epoch {epoch}\")\n",
    "            break\n",
    "\n",
    "    # Accuracy\n",
    "    all_preds_rounded = np.round(all_preds).astype(int)\n",
    "    all_targets_int = np.array(all_targets).astype(int)\n",
    "    acc = (all_preds_rounded == all_targets_int).mean()\n",
    "    acc_tolerant = (np.abs(all_preds_rounded - all_targets_int) <= 1).mean()\n",
    "\n",
    "    with open(r\"model/training_log.csv\", \"a\") as f:\n",
    "        f.write(f\"{epoch},{avg_train_loss:.4f},{rmse:.4f},{mae:.4f},{acc:.4f},{acc_tolerant:.4f}\\n\")\n",
    "\n",
    "    print(f\"[{epoch:03d}] Train Loss: {avg_train_loss:.4f} | RMSE: {rmse:.4f} | MAE: {mae:.4f} | ACC: {acc:.4f} | ACC±1: {acc_tolerant:.4f}\")\n"
   ],
   "id": "5bd45e25aaeb7af5",
   "outputs": [
    {
     "name": "stdout",
     "output_type": "stream",
     "text": [
      "[001] Train Loss: 25.7556 | RMSE: 4.5484 | MAE: 4.4655 | ACC: 0.0000 | ACC±1: 0.0000\n",
      "[002] Train Loss: 12.5582 | RMSE: 3.2548 | MAE: 3.1424 | ACC: 0.0000 | ACC±1: 0.0250\n",
      "[003] Train Loss: 4.7767 | RMSE: 1.8505 | MAE: 1.6396 | ACC: 0.0906 | ACC±1: 0.4813\n",
      "[004] Train Loss: 1.7209 | RMSE: 1.1062 | MAE: 0.8551 | ACC: 0.3875 | ACC±1: 0.8406\n",
      "[005] Train Loss: 1.0978 | RMSE: 0.9429 | MAE: 0.7446 | ACC: 0.4156 | ACC±1: 0.8781\n",
      "[006] Train Loss: 0.9653 | RMSE: 0.9423 | MAE: 0.7424 | ACC: 0.4125 | ACC±1: 0.8969\n",
      "[007] Train Loss: 0.9568 | RMSE: 0.9520 | MAE: 0.7642 | ACC: 0.4094 | ACC±1: 0.8719\n",
      "[008] Train Loss: 0.8902 | RMSE: 0.8613 | MAE: 0.6746 | ACC: 0.4781 | ACC±1: 0.9094\n",
      "[009] Train Loss: 0.8298 | RMSE: 0.8639 | MAE: 0.6746 | ACC: 0.4750 | ACC±1: 0.9000\n",
      "[010] Train Loss: 0.8137 | RMSE: 0.8659 | MAE: 0.6869 | ACC: 0.4375 | ACC±1: 0.9062\n",
      "[011] Train Loss: 0.8225 | RMSE: 0.8133 | MAE: 0.6336 | ACC: 0.5188 | ACC±1: 0.9281\n",
      "[012] Train Loss: 0.8042 | RMSE: 0.8485 | MAE: 0.6717 | ACC: 0.4531 | ACC±1: 0.9219\n",
      "[013] Train Loss: 0.7356 | RMSE: 0.7836 | MAE: 0.6076 | ACC: 0.5375 | ACC±1: 0.9437\n",
      "[014] Train Loss: 0.7839 | RMSE: 0.8137 | MAE: 0.6300 | ACC: 0.5281 | ACC±1: 0.9313\n",
      "[015] Train Loss: 0.7797 | RMSE: 0.8307 | MAE: 0.6324 | ACC: 0.5156 | ACC±1: 0.9187\n",
      "[016] Train Loss: 0.7260 | RMSE: 0.8522 | MAE: 0.6634 | ACC: 0.5031 | ACC±1: 0.8938\n",
      "[017] Train Loss: 0.7415 | RMSE: 0.7865 | MAE: 0.6049 | ACC: 0.5125 | ACC±1: 0.9281\n",
      "[018] Train Loss: 0.7321 | RMSE: 0.8153 | MAE: 0.6256 | ACC: 0.5125 | ACC±1: 0.9187\n",
      "[019] Train Loss: 0.7190 | RMSE: 0.8254 | MAE: 0.6465 | ACC: 0.5000 | ACC±1: 0.9250\n",
      "[020] Train Loss: 0.7480 | RMSE: 0.7947 | MAE: 0.6085 | ACC: 0.5250 | ACC±1: 0.9219\n",
      "[021] Train Loss: 0.7719 | RMSE: 0.7975 | MAE: 0.6184 | ACC: 0.5219 | ACC±1: 0.9406\n",
      "[022] Train Loss: 0.7047 | RMSE: 0.7721 | MAE: 0.5898 | ACC: 0.5188 | ACC±1: 0.9437\n",
      "[023] Train Loss: 0.6722 | RMSE: 0.7380 | MAE: 0.5752 | ACC: 0.5188 | ACC±1: 0.9500\n",
      "[024] Train Loss: 0.6979 | RMSE: 0.8306 | MAE: 0.6490 | ACC: 0.5094 | ACC±1: 0.9281\n",
      "[025] Train Loss: 0.6592 | RMSE: 0.8207 | MAE: 0.6306 | ACC: 0.5469 | ACC±1: 0.9281\n",
      "[026] Train Loss: 0.6931 | RMSE: 0.7981 | MAE: 0.6202 | ACC: 0.5219 | ACC±1: 0.9281\n",
      "[027] Train Loss: 0.6433 | RMSE: 0.7655 | MAE: 0.5874 | ACC: 0.5406 | ACC±1: 0.9469\n",
      "[028] Train Loss: 0.6215 | RMSE: 0.7495 | MAE: 0.5822 | ACC: 0.5156 | ACC±1: 0.9594\n",
      "[029] Train Loss: 0.6883 | RMSE: 0.7605 | MAE: 0.5850 | ACC: 0.5250 | ACC±1: 0.9563\n",
      "[030] Train Loss: 0.6494 | RMSE: 0.7533 | MAE: 0.5780 | ACC: 0.5219 | ACC±1: 0.9563\n",
      "[031] Train Loss: 0.6613 | RMSE: 0.8268 | MAE: 0.6348 | ACC: 0.5000 | ACC±1: 0.9281\n",
      "[032] Train Loss: 0.6489 | RMSE: 0.7417 | MAE: 0.5745 | ACC: 0.5437 | ACC±1: 0.9500\n",
      "Early stopping at epoch 33\n"
     ]
    }
   ],
   "execution_count": 13
  },
  {
   "metadata": {
    "ExecuteTime": {
     "end_time": "2025-06-25T15:35:19.181184Z",
     "start_time": "2025-06-25T15:35:19.087783Z"
    }
   },
   "cell_type": "code",
   "source": [
    "log_df = pd.read_csv(\"model/training_log.csv\")\n",
    "\n",
    "plt.figure(figsize=(10, 5))\n",
    "plt.plot(log_df['epoch'], log_df['rmse'], label=\"RMSE\")\n",
    "plt.plot(log_df['epoch'], log_df['mae'], label=\"MAE\")\n",
    "plt.title(\"Learning Curve\")\n",
    "plt.xlabel(\"Epoka\")\n",
    "plt.ylabel(\"Blad\")\n",
    "plt.legend()\n",
    "plt.grid(True)\n",
    "plt.tight_layout()\n",
    "plt.show()"
   ],
   "id": "c4ea02561b4ffc27",
   "outputs": [
    {
     "data": {
      "text/plain": [
       "<Figure size 1000x500 with 1 Axes>"
      ],
      "image/png": "[encoded data removed]"
     },
     "metadata": {},
     "output_type": "display_data"
    }
   ],
   "execution_count": 14
  }
 ],
 "metadata": {
  "kernelspec": {
   "display_name": "Python 3",
   "language": "python",
   "name": "python3"
  },
  "language_info": {
   "codemirror_mode": {
    "name": "ipython",
    "version": 2
   },
   "file_extension": ".py",
   "mimetype": "text/x-python",
   "name": "python",
   "nbconvert_exporter": "python",
   "pygments_lexer": "ipython2",
   "version": "2.7.6"
  }
 },
 "nbformat": 4,
 "nbformat_minor": 5
}
